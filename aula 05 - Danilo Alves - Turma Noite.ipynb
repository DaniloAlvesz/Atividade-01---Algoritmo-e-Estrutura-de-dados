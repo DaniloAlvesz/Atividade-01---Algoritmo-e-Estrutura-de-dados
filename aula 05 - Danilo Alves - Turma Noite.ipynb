{
 "cells": [
  {
   "cell_type": "markdown",
   "metadata": {},
   "source": [
    "1) Num determinado Estado, para transferências de veículos, o DETRAN cobra uma taxa de 1% para carros fabricados antes de 1990 e uma taxa de 1.5% para os fabricados de 1990 em diante, a taxa está incidindo sobre o valor do carro. Faça uma algoritmo lê o ano e o preço do carro e a seguir calcula e imprime o imposto a ser pago."
   ]
  },
  {
   "cell_type": "code",
   "execution_count": 3,
   "metadata": {},
   "outputs": [
    {
     "name": "stdout",
     "output_type": "stream",
     "text": [
      "Cauculadora de taxas para tranferência de veículos DETRAN\n",
      "\u001b[1m O ano do veículo é: 1999\n",
      "O imposto total para transferência do veículo é:  37.5\n"
     ]
    }
   ],
   "source": [
    "# Inicia a cauculadora\n",
    "print(\"Cauculadora de taxas para tranferência de veículos DETRAN\")\n",
    "\n",
    "# Solicita e armazena em variáveis os inputs do usuário \n",
    "ano_fabricacao = int(input(\"Qual é o ano do veículo?\"))\n",
    "preco_veiculo = int(input(\"Qual é o valor do seu veículo?\"))\n",
    "\n",
    "# Considera a daxa de acordo com o ano do veículo\n",
    "if ano_fabricacao < 1990:\n",
    "    tax = 0.01\n",
    "else: \n",
    "    tax = 0.015\n",
    "\n",
    "# Imprime o resultado da operação na tela do usuário\n",
    "print(\"O ano do veículo é:\", ano_fabricacao)\n",
    "print(\"O imposto total para transferência do veículo é: \", (preco_veiculo * tax))"
   ]
  },
  {
   "cell_type": "markdown",
   "metadata": {},
   "source": [
    "2) Uma empresa concederá um aumento de salário aos seus funcionários, variável de acordo com o cargo, conforme a tabela abaixo. Faça um algoritmo que leia o salário e o cargo de um funcionário e calcule o novo salário. Se o cargo do funcionário não estiver na tabela, ele deverá, então, receber 40% de aumento. Mostre o salário antigo, o novo salário e a diferença"
   ]
  },
  {
   "cell_type": "code",
   "execution_count": 6,
   "metadata": {},
   "outputs": [
    {
     "name": "stdout",
     "output_type": "stream",
     "text": [
      "Você receberá 2000.0 a mais em seu salário\n",
      "O seu salário antigo é de: 20000.0\n",
      "O seu novo salário será de: 22000.0\n"
     ]
    }
   ],
   "source": [
    "# Solicita ao usuário que insira seu cargo e armazena na variável 'cargo_funcionário'.\n",
    "cargo_funcionario = input(\"Qual é o seu cargo?\") \n",
    "\n",
    "# Solicita ao usuário que insira seu salário mensal e converte para um número em ponto flutuante.\n",
    "salario_funcionario = float(input(\"Qual é o seu salário mensal?\"))\n",
    "\n",
    "# Inicializa a variável 'aumento' com o valor zero.\n",
    "aumento = 0\n",
    "\n",
    "# Verifica o cargo do funcionário e define o aumento com base nesse cargo.\n",
    "if cargo_funcionario == \"Gerente\": \n",
    "    aumento = 0.10\n",
    "elif cargo_funcionario == \"Engenheiro\": \n",
    "    aumento = 0.20\n",
    "elif cargo_funcionario == \"Técnico\": \n",
    "    aumento = 0.30\n",
    "else:\n",
    "    aumento = 0.40\n",
    "\n",
    "# Calcula o novo salário do funcionário com o aumento aplicado.\n",
    "novo_salario = salario_funcionario * (1 + aumento)\n",
    "\n",
    "# Imprime a quantidade de aumento.\n",
    "print(f\"Você receberá {aumento * salario_funcionario} a mais em seu salário\")\n",
    "\n",
    "# Imprime o salário antigo do funcionário.\n",
    "print(\"O seu salário atual é de:\", salario_funcionario)\n",
    "\n",
    "# Imprime o novo salário do funcionário, arredondado para duas casas decimais.\n",
    "print(\"O seu novo salário será de:\", novo_salario)\n"
   ]
  },
  {
   "cell_type": "code",
   "execution_count": null,
   "metadata": {},
   "outputs": [],
   "source": []
  }
 ],
 "metadata": {
  "kernelspec": {
   "display_name": "Python 3",
   "language": "python",
   "name": "python3"
  },
  "language_info": {
   "codemirror_mode": {
    "name": "ipython",
    "version": 3
   },
   "file_extension": ".py",
   "mimetype": "text/x-python",
   "name": "python",
   "nbconvert_exporter": "python",
   "pygments_lexer": "ipython3",
   "version": "3.11.9"
  }
 },
 "nbformat": 4,
 "nbformat_minor": 2
}
