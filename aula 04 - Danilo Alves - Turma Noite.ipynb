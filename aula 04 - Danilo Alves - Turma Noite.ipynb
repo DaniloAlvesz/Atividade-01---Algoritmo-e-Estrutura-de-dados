{
 "cells": [
  {
   "cell_type": "markdown",
   "metadata": {},
   "source": [
    "Atividade coding (Danilo Alves - Senac - Turma Noite - 1° Periodo)"
   ]
  },
  {
   "cell_type": "markdown",
   "metadata": {},
   "source": [
    "1) Faça um Programa que peça 2 números inteiros e um número real. Calcule e mostre:"
   ]
  },
  {
   "cell_type": "markdown",
   "metadata": {},
   "source": [
    "\n",
    "a. O produto do dobro do primeiro com metade do segundo."
   ]
  },
  {
   "cell_type": "markdown",
   "metadata": {},
   "source": [
    "b. A soma do triplo do primeiro com o terceiro. o terceiro elevado ao cubo."
   ]
  },
  {
   "cell_type": "code",
   "execution_count": 8,
   "metadata": {},
   "outputs": [
    {
     "name": "stdout",
     "output_type": "stream",
     "text": [
      "O produto do dobro do primeiro número com metade do segundo é:  100.0\n",
      "--------------------------------------------------------------------------------\n",
      "A soma do triplo do primeiro número com o terceiro elevado ao cubo é:  1030.0\n"
     ]
    }
   ],
   "source": [
    "# Collects user values\n",
    "n1, n2, n3 = int(input(\"Enter an integer: \")), int(input(\"Enter another integer: \")), float(input(\"Enter a real number: \"))\n",
    "\n",
    "# Calculates the product of twice n1 and half of n2 and stores the result in a variable\n",
    "pdpms = (n1 * 2) * (n2 / 2)\n",
    "\n",
    "# Calculates the sum of three times the first number and the third number cubed\n",
    "stptc = (n1 * 3) + (n3 ** 3)\n",
    "\n",
    "# Prints the results for the user\n",
    "print(\"The product of twice the first number with half the second is:\", pdpms)\n",
    "print(\"-\" * 80)\n",
    "print(\"The sum of three times the first number with the third number cubed is:\", stptc)"
   ]
  },
  {
   "cell_type": "markdown",
   "metadata": {},
   "source": [
    "2) Faça um Programa que peça dois números e imprima o maior deles."
   ]
  },
  {
   "cell_type": "code",
   "execution_count": 3,
   "metadata": {},
   "outputs": [
    {
     "name": "stdout",
     "output_type": "stream",
     "text": [
      "25.0\n"
     ]
    }
   ],
   "source": [
    "# Requests user inputs\n",
    "num1 = float(input(\"Enter a number: \"))\n",
    "num2 = float(input(\"Enter another number: \"))\n",
    "\n",
    "# Checks which number is larger and prints it\n",
    "print(max(num1, num2))\n"
   ]
  },
  {
   "cell_type": "markdown",
   "metadata": {},
   "source": [
    "3) Faça um Programa que peça um valor e mostre na tela se o valor é positivo ou negativo."
   ]
  },
  {
   "cell_type": "code",
   "execution_count": 4,
   "metadata": {},
   "outputs": [
    {
     "name": "stdout",
     "output_type": "stream",
     "text": [
      "The number 15.0 is positive\n"
     ]
    }
   ],
   "source": [
    "# Solicits a number from the user\n",
    "number = float(input(\"Enter a number: \"))\n",
    "\n",
    "# Checks if the number is positive or negative and prints the result\n",
    "print(\"The number\", number, \"is positive\" if number > 0 else \"is negative\")"
   ]
  },
  {
   "cell_type": "markdown",
   "metadata": {},
   "source": [
    "4) Faça um programa para a leitura de duas notas parciais de um aluno. O programa deve calcular a média alcançada por aluno e apresentar o resultado \"Aprovado\" ou \"Reprovado\". Considere que a escola adota média 7.00.\n"
   ]
  },
  {
   "cell_type": "code",
   "execution_count": 13,
   "metadata": {},
   "outputs": [
    {
     "name": "stdout",
     "output_type": "stream",
     "text": [
      "Passed\n"
     ]
    }
   ],
   "source": [
    "# Requests the student's grades and stores them in a list\n",
    "grades_list = [float(input(\"Enter your partial grade for the first unit in Portuguese: \")),\n",
    "               float(input(\"Enter your partial grade for the second unit in Portuguese: \"))]\n",
    "\n",
    "# Calculates the average and prints it\n",
    "average = sum(grades_list) / len(grades_list)\n",
    "print(\"Passed\" if average > 7 else \"Failed\")\n",
    "\n",
    "\n"
   ]
  },
  {
   "cell_type": "markdown",
   "metadata": {},
   "source": [
    "\n",
    "5) Faça um Programa que leia três números e mostre o maior deles."
   ]
  },
  {
   "cell_type": "code",
   "execution_count": null,
   "metadata": {},
   "outputs": [
    {
     "name": "stdout",
     "output_type": "stream",
     "text": [
      "The largest number is: 34.0\n"
     ]
    }
   ],
   "source": [
    "# Collects user inputs\n",
    "num01 = float(input(\"Enter a number: \"))\n",
    "num02 = float(input(\"Enter another number: \"))\n",
    "num03 = float(input(\"Enter one more number: \"))\n",
    "\n",
    "# Checks which is the largest number and prints it for the user\n",
    "largest_number = max(num01, num02, num03)\n",
    "print(\"The largest number is:\", largest_number)\n",
    "\n"
   ]
  }
 ],
 "metadata": {
  "kernelspec": {
   "display_name": "Python 3",
   "language": "python",
   "name": "python3"
  },
  "language_info": {
   "codemirror_mode": {
    "name": "ipython",
    "version": 3
   },
   "file_extension": ".py",
   "mimetype": "text/x-python",
   "name": "python",
   "nbconvert_exporter": "python",
   "pygments_lexer": "ipython3",
   "version": "3.12.2"
  }
 },
 "nbformat": 4,
 "nbformat_minor": 2
}
