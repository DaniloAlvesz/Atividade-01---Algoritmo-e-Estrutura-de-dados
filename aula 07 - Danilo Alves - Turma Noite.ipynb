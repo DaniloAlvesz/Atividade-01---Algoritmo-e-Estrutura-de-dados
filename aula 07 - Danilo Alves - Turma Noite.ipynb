{
 "cells": [
  {
   "cell_type": "code",
   "execution_count": 1,
   "metadata": {},
   "outputs": [
    {
     "name": "stdout",
     "output_type": "stream",
     "text": [
      "estamos no elemento 1\n",
      "estamos no elemento 2\n",
      "estamos no elemento 3\n",
      "estamos no elemento 4\n",
      "estamos no elemento 5\n",
      "estamos no elemento 6\n"
     ]
    }
   ],
   "source": [
    "for elemento in  [1, 2, 3, 4, 5, 6]:\n",
    "    print('estamos no elemento', elemento)"
   ]
  },
  {
   "cell_type": "code",
   "execution_count": 3,
   "metadata": {},
   "outputs": [
    {
     "name": "stdout",
     "output_type": "stream",
     "text": [
      "estamos no elemento  6\n",
      "estamos no elemento  6\n",
      "estamos no elemento  6\n",
      "estamos no elemento  6\n",
      "estamos no elemento  6\n",
      "estamos no elemento  6\n"
     ]
    }
   ],
   "source": [
    "for element in range (len(\"STRING\")):\n",
    "    print ('estamos no elemento ', elemento)"
   ]
  },
  {
   "cell_type": "code",
   "execution_count": null,
   "metadata": {},
   "outputs": [],
   "source": [
    "elemento = 0\n",
    "\n",
    "while elemento <= len([1,2,3,4,5,6]):\n",
    "    print(elemento + 1)"
   ]
  },
  {
   "cell_type": "code",
   "execution_count": 7,
   "metadata": {},
   "outputs": [
    {
     "name": "stdout",
     "output_type": "stream",
     "text": [
      "Estamos no elemento:  S\n",
      "Estamos no elemento:  T\n",
      "Estamos no elemento:  R\n",
      "Estamos no elemento:  I\n",
      "Estamos no elemento:  N\n",
      "Estamos no elemento:  G\n"
     ]
    }
   ],
   "source": [
    "s = \"STRING\"\n",
    "indice = 0\n",
    "\n",
    "while indice in range (len (s)):\n",
    "    print('Estamos no elemento: ', s[indice])\n",
    "    indice +=1"
   ]
  },
  {
   "cell_type": "code",
   "execution_count": 8,
   "metadata": {},
   "outputs": [
    {
     "name": "stdout",
     "output_type": "stream",
     "text": [
      "0 T\n",
      "1 R\n",
      "2 A\n",
      "3 N\n",
      "4 Q\n",
      "5 U\n",
      "6 I\n",
      "7 L\n",
      "8 O\n"
     ]
    }
   ],
   "source": [
    "palavra = \"TRANQUILO\"\n",
    "\n",
    "for indice, letra in enumerate(palavra):\n",
    "    print(indice, letra)"
   ]
  },
  {
   "cell_type": "code",
   "execution_count": 12,
   "metadata": {},
   "outputs": [
    {
     "name": "stdout",
     "output_type": "stream",
     "text": [
      "Tipo:  <class 'enumerate'>\n",
      "[(0, 'eat'), (1, 'sleep'), (2, 'repeat')]\n"
     ]
    }
   ],
   "source": [
    "lista = ['eat', 'sleep', 'repeat']\n",
    "palavra = 'geek'\n",
    "\n",
    "objeto1 = enumerate(lista) \n",
    "objeto2 = enumerate(palavra)\n",
    "\n",
    "print(\"Tipo: \", type(objeto1))\n",
    "print(list(enumerate(lista)))"
   ]
  },
  {
   "cell_type": "code",
   "execution_count": 14,
   "metadata": {},
   "outputs": [
    {
     "name": "stdout",
     "output_type": "stream",
     "text": [
      "oi\n",
      "oi\n",
      "oi\n",
      "oi\n",
      "oi\n"
     ]
    }
   ],
   "source": [
    "s = \"viva o python\"\n",
    "for s in s[3:8]:\n",
    "    print(\"oi\")"
   ]
  },
  {
   "cell_type": "code",
   "execution_count": 25,
   "metadata": {},
   "outputs": [
    {
     "name": "stdout",
     "output_type": "stream",
     "text": [
      "A quantidade de números pares inseridos foi:  7\n",
      "A quantidade de números ímpares inseridos foi:  3\n"
     ]
    }
   ],
   "source": [
    "#DESAFIO DO DIA!\n",
    "\n",
    "pares = []\n",
    "impares = []\n",
    "\n",
    "for i in range(10):\n",
    "    num = int(input(\"Insira um número inteiro: \"))\n",
    "    \n",
    "    if num % 2 == 0:\n",
    "        pares.append(num)\n",
    "    else:\n",
    "        impares.append(num)\n",
    "        \n",
    "print(\"A quantidade de números pares inseridos foi: \", len(pares))\n",
    "print(\"A quantidade de números ímpares inseridos foi: \", len(impares))        \n"
   ]
  }
 ],
 "metadata": {
  "kernelspec": {
   "display_name": "Python 3",
   "language": "python",
   "name": "python3"
  },
  "language_info": {
   "codemirror_mode": {
    "name": "ipython",
    "version": 3
   },
   "file_extension": ".py",
   "mimetype": "text/x-python",
   "name": "python",
   "nbconvert_exporter": "python",
   "pygments_lexer": "ipython3",
   "version": "3.11.9"
  }
 },
 "nbformat": 4,
 "nbformat_minor": 2
}
