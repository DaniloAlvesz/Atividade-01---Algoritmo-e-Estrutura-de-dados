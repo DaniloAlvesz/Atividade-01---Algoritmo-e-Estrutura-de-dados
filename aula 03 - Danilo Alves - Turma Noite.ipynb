{
 "cells": [
  {
   "cell_type": "code",
   "execution_count": 1,
   "metadata": {},
   "outputs": [],
   "source": [
    "#Atividade realizada no dia 09/04/2024 por Danilo Alves (linkedin.com/in/daniloalvesgomes)\n",
    "#take a number from user\n",
    "n = int(input(\"Insert a number: \"))\n",
    "\n",
    "#print the number choice by user\n",
    "print(\"The choice number is: \",  n)"
   ]
  },
  {
   "cell_type": "code",
   "execution_count": 4,
   "metadata": {},
   "outputs": [
    {
     "name": "stdout",
     "output_type": "stream",
     "text": [
      "Sominha básica: \n",
      "O resultado da soma entre os dois números é:  1224\n"
     ]
    }
   ],
   "source": [
    "#take two numbers from user and sum\n",
    "print(\"Sominha básica: \")\n",
    "n1 = int(input(\"Insert a number: \"))\n",
    "n2 = int(input(\"Insert a number: \"))\n",
    "\n",
    "#sum the numbers\n",
    "print(\"O resultado da soma entre os dois números é: \",  n1 + n2)"
   ]
  },
  {
   "cell_type": "code",
   "execution_count": 6,
   "metadata": {},
   "outputs": [
    {
     "name": "stdout",
     "output_type": "stream",
     "text": [
      "A média entre os números fornecidos é:  5.333333333333333\n"
     ]
    }
   ],
   "source": [
    "#take trhee numbers and take the average\n",
    "num1 = int(input(\"Insert a number: \"))\n",
    "num2 = int(input(\"Insert a number: \"))\n",
    "num3 = int(input(\"Insert a number: \"))\n",
    "\n",
    "data = [num1 , num2, num3]\n",
    "\n",
    "media = (num1 + num2 + num3) / len(data)\n",
    "\n",
    "print(\"The average of the numbers is: \" , media)\n"
   ]
  },
  {
   "cell_type": "code",
   "execution_count": 8,
   "metadata": {},
   "outputs": [
    {
     "name": "stdout",
     "output_type": "stream",
     "text": [
      "Your total salary is: R$ 600.0\n"
     ]
    }
   ],
   "source": [
    "salary_per_hour = float(input(\"How much do you earn per hour worked?\"))\n",
    "\n",
    "hours_worked = int(input(\"How many hours do you work per month?\"))\n",
    "\n",
    "salary = salary_per_hour * hours_worked\n",
    "\n",
    "print(\"Your total salary is: R$\" , salary) "
   ]
  },
  {
   "cell_type": "code",
   "execution_count": 10,
   "metadata": {},
   "outputs": [
    {
     "name": "stdout",
     "output_type": "stream",
     "text": [
      "Pescaria aprovada, sem multas.\n"
     ]
    }
   ],
   "source": [
    "#Recebe peso pescado\n",
    "peso_pesca = float(input(\"Quanto em kg foi pescado?\"))\n",
    "\n",
    "#Caucula o excedente\n",
    "excedente = peso_pesca - 50\n",
    "\n",
    "#caucula o valor a ser pago se a condição for atendida\n",
    "if excedente > 0:\n",
    "    multa = excedente * 4\n",
    "    print(\"A multa a ser paga é: R$\", multa)\n",
    "    print(\"STATUS: Aguardando pagamento.\")\n",
    "\n",
    "else: \n",
    "    print(\"Pescaria aprovada, sem multas.\")\n",
    "\n"
   ]
  }
 ],
 "metadata": {
  "kernelspec": {
   "display_name": "Python 3",
   "language": "python",
   "name": "python3"
  },
  "language_info": {
   "codemirror_mode": {
    "name": "ipython",
    "version": 3
   },
   "file_extension": ".py",
   "mimetype": "text/x-python",
   "name": "python",
   "nbconvert_exporter": "python",
   "pygments_lexer": "ipython3",
   "version": "3.11.9"
  }
 },
 "nbformat": 4,
 "nbformat_minor": 2
}
