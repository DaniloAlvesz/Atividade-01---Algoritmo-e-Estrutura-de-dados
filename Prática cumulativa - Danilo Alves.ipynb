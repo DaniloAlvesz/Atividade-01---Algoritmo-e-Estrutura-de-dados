{
  "nbformat": 4,
  "nbformat_minor": 0,
  "metadata": {
    "colab": {
      "provenance": [],
      "authorship_tag": "ABX9TyNGQbkXj3/iunX4M7+vmhof"
    },
    "kernelspec": {
      "name": "python3",
      "display_name": "Python 3"
    },
    "language_info": {
      "name": "python"
    }
  },
  "cells": [
    {
      "cell_type": "code",
      "execution_count": null,
      "metadata": {
        "colab": {
          "base_uri": "https://localhost:8080/"
        },
        "id": "LCEdaAdVH9j4",
        "outputId": "aeef79dc-e914-4716-e292-c55b20da1248"
      },
      "outputs": [
        {
          "output_type": "stream",
          "name": "stdout",
          "text": [
            "Digite uma letra: 5\n",
            "Não é uma letra\n"
          ]
        }
      ],
      "source": [
        "# Armazena as informaçõoes sobre qual é vogal e qual é consoante\n",
        "vogais = ['a', 'e', 'i', 'o', 'u']\n",
        "consoantes = ['b', 'c', 'd', 'f', 'g', 'h', 'j', 'k', 'l', 'm', 'n', 'p', 'q', 'r', 's', 't', 'v', 'w', 'x', 'y', 'z']\n",
        "\n",
        "# Solicita ao usuário uma letra\n",
        "letra = str(input(\"Digite uma letra: \"))\n",
        "\n",
        "# Verifica se a letra é vogal ou consoante\n",
        "if letra in vogais:\n",
        "    print(\"A letra é vogal\")\n",
        "elif letra in consoantes:\n",
        "    print(\"A letra é consoante\")\n",
        "else:\n",
        "    print(\"Não é uma letra\")\n"
      ]
    },
    {
      "cell_type": "code",
      "source": [
        "# SOlicita o preço dos produtos\n",
        "preco1 = float(input(\"Digite o preço do primeiro produto: \"))\n",
        "preco2 = float(input(\"Digite o preço do segundo produto: \"))\n",
        "preco3 = float(input(\"Digite o preço do terceiro produto: \"))\n",
        "\n",
        "\n",
        "if preco1 < preco2 and preco1 < preco3:\n",
        "    print(\"O primeiro produto é o mais barato, compre ele.\")\n",
        "elif preco2 < preco1 and preco2 < preco3:\n",
        "    print(\"O segundo produto é o mais barato, compre ele.\")\n",
        "else:\n",
        "    print(\"O terceiro produto é o mais barato, compre ele.\")"
      ],
      "metadata": {
        "colab": {
          "base_uri": "https://localhost:8080/"
        },
        "id": "3JcMdd7gO2CX",
        "outputId": "ef24022a-b872-4120-cdbf-abba29b6688c"
      },
      "execution_count": null,
      "outputs": [
        {
          "output_type": "stream",
          "name": "stdout",
          "text": [
            "Digite o preço do primeiro produto: 90\n",
            "Digite o preço do segundo produto: 80\n",
            "Digite o preço do terceiro produto: 5\n",
            "O terceiro produto é o mais barato, compre ele.\n"
          ]
        }
      ]
    },
    {
      "cell_type": "code",
      "source": [
        "# Solicita ao usuário três números\n",
        "num1 = float(input(\"Digite o primeiro número: \"))\n",
        "num2 = float(input(\"Digite o segundo número: \"))\n",
        "num3 = float(input(\"Digite o terceiro número: \"))\n",
        "\n",
        "# Verifica qual é o maior número\n",
        "if num1 > num2 and num1 > num3:\n",
        "    maior = num1\n",
        "elif num2 > num1 and num2 > num3:\n",
        "    maior = num2\n",
        "else:\n",
        "    maior = num3\n",
        "\n",
        "# Verifica qual é o menor número\n",
        "if num1 < num2 and num1 < num3:\n",
        "    menor = num1\n",
        "elif num2 < num1 and num2 < num3:\n",
        "    menor = num2\n",
        "else:\n",
        "    menor = num3\n",
        "\n",
        "# Calcula o número do meio\n",
        "meio = (num1 + num2 + num3) - maior - menor\n",
        "\n",
        "# Imprime os números em ordem decrescente\n",
        "print(\"Os números em ordem decrescente são:\", maior, meio, menor)\n"
      ],
      "metadata": {
        "id": "MICFWrZZWEXw"
      },
      "execution_count": null,
      "outputs": []
    },
    {
      "cell_type": "code",
      "source": [
        "# Solicita ao usuário para informar o turno em que estuda\n",
        "turno = input('Em que turno você estuda? Digite M-matutino ou V-Vespertino ou N- Noturno: ')\n",
        "\n",
        "# Verifica se o turno informado é válido\n",
        "if turno == 'M':\n",
        "    print('Bom Dia!')\n",
        "elif turno == 'V':\n",
        "    print('Boa Tarde!')\n",
        "elif turno == 'N':\n",
        "    print('Boa Noite!')\n",
        "else:\n",
        "    print('Valor Inválido!')"
      ],
      "metadata": {
        "id": "-SLewKAuWILT"
      },
      "execution_count": null,
      "outputs": []
    },
    {
      "cell_type": "code",
      "source": [
        "# Obtém a entrada do usuário.\n",
        "numero = int(input(\"Digite um número entre 1 e 7: \"))\n",
        "\n",
        "# Verifica se a entrada é válida.\n",
        "if numero < 1 or numero > 7:\n",
        "    print(\"Valor inválido. Digite um número entre 1 e 7.\")\n",
        "else:\n",
        "    # Exibe o dia correspondente da semana.\n",
        "    dias_da_semana = {\n",
        "        1: \"Domingo\",\n",
        "        2: \"Segunda-feira\",\n",
        "        3: \"Terça-feira\",\n",
        "        4: \"Quarta-feira\",\n",
        "        5: \"Quinta-feira\",\n",
        "        6: \"Sexta-feira\",\n",
        "        7: \"Sábado\"\n",
        "    }\n",
        "    print(dias_da_semana[numero])"
      ],
      "metadata": {
        "id": "KmOaFKLbWNI9"
      },
      "execution_count": null,
      "outputs": []
    },
    {
      "cell_type": "code",
      "source": [
        "# Solicita ao usuário para informar a primeira nota\n",
        "nota1 = float(input(\"Digite a primeira nota: \"))\n",
        "\n",
        "# Solicita ao usuário para informar a segunda nota\n",
        "nota2 = float(input(\"Digite a segunda nota: \"))\n",
        "\n",
        "# Calcula a média das notas\n",
        "media = (nota1 + nota2) / 2\n",
        "\n",
        "# Verifica a faixa de valores em que a média se encontra e atribui um conceito\n",
        "if media >= 9.0 and media <= 10.0:\n",
        "    conceito = \"A\"\n",
        "elif media >= 7.5 and media < 9.0:\n",
        "    conceito = \"B\"\n",
        "elif media >= 6.0 and media < 7.5:\n",
        "    conceito = \"C\"\n",
        "elif media >= 4.0 and media < 6.0:\n",
        "    conceito = \"D\"\n",
        "else:\n",
        "    conceito = \"E\"\n",
        "\n",
        "# Verifica se o aluno foi aprovado\n",
        "if media >= 6.0:\n",
        "    print(\"Aluno aprovado.\")\n",
        "else:\n",
        "    print(\"Aluno reprovado.\")\n",
        "\n",
        "print(\"Nota 1:\", nota1)\n",
        "print(\"Nota 2:\", nota2)\n",
        "print(\"Média:\", media)\n",
        "print(\"Conceito:\", conceito)"
      ],
      "metadata": {
        "colab": {
          "base_uri": "https://localhost:8080/"
        },
        "id": "RNM-Rw24U132",
        "outputId": "244ad2b1-dc98-445f-d493-29eee70253b2"
      },
      "execution_count": null,
      "outputs": [
        {
          "output_type": "stream",
          "name": "stdout",
          "text": [
            "Digite a primeira nota: 10\n",
            "Digite a segunda nota: 4\n",
            "Aluno aprovado.\n",
            "Nota 1: 10.0\n",
            "Nota 2: 4.0\n",
            "Média: 7.0\n",
            "Conceito: C\n"
          ]
        }
      ]
    },
    {
      "cell_type": "code",
      "source": [
        "# Solicita ao usuário para informar um ano\n",
        "ano = int(input(\"Digite um ano: \"))\n",
        "\n",
        "# Verifica se o ano é bissexto\n",
        "if ano % 4 == 0:\n",
        "    if ano % 100 == 0:\n",
        "        if ano % 400 == 0:\n",
        "            bissexto = True\n",
        "        else:\n",
        "            bissexto = False\n",
        "    else:\n",
        "        bissexto = True\n",
        "else:\n",
        "    bissexto = False\n",
        "\n",
        "# Imprime se o ano é ou não bissexto\n",
        "if bissexto:\n",
        "    print(f\"O ano {ano} é bissexto.\")\n",
        "else:\n",
        "    print(f\"O ano {ano} não é bissexto.\")"
      ],
      "metadata": {
        "colab": {
          "base_uri": "https://localhost:8080/"
        },
        "id": "0cPVntrGZ76b",
        "outputId": "0e0f156a-c718-498d-fcdf-a81a33a6a38b"
      },
      "execution_count": null,
      "outputs": [
        {
          "output_type": "stream",
          "name": "stdout",
          "text": [
            "Digite um ano: 2023\n",
            "O ano 2023 não é bissexto.\n"
          ]
        }
      ]
    },
    {
      "cell_type": "code",
      "source": [
        "# Solicita ao usuário para informar dois números\n",
        "num1 = float(input(\"Digite o primeiro número: \"))\n",
        "num2 = float(input(\"Digite o segundo número: \"))\n",
        "\n",
        "# Solicita ao usuário para escolher a operação básica\n",
        "operacao = input(\"Digite a operação básica desejada (+, -, *, /, ^): \")\n",
        "\n",
        "# Realiza a operação básica de acordo com a escolha do usuário\n",
        "if operacao == \"+\":\n",
        "    resultado = num1 + num2\n",
        "elif operacao == \"-\":\n",
        "    resultado = num1 - num2\n",
        "elif operacao == \"*\":\n",
        "    resultado = num1 * num2\n",
        "elif operacao == \"/\":\n",
        "    resultado = num1 / num2\n",
        "elif operacao == \"^\":\n",
        "    resultado = num1 ** num2\n",
        "else:\n",
        "    print(\"Operação inválida.\")\n",
        "    exit()\n",
        "\n",
        "# Verifica se o resultado é par ou ímpar\n",
        "if resultado % 2 == 0:\n",
        "    par_impar = \"par\"\n",
        "else:\n",
        "    par_impar = \"ímpar\"\n",
        "\n",
        "# Verifica se o resultado é positivo ou negativo\n",
        "if resultado > 0:\n",
        "    positivo_negativo = \"positivo\"\n",
        "else:\n",
        "    positivo_negativo = \"negativo\"\n",
        "\n",
        "# Verifica se o resultado é inteiro ou decimal\n",
        "if resultado == int(resultado):\n",
        "    inteiro_decimal = \"inteiro\"\n",
        "else:\n",
        "    inteiro_decimal = \"decimal\"\n",
        "\n",
        "# Imprime o resultado da operação e as informações sobre o número\n",
        "print(f\"Resultado: {resultado}\")\n",
        "print(f\"O número {resultado} é {par_impar}, {positivo_negativo} e {inteiro_decimal}.\")"
      ],
      "metadata": {
        "colab": {
          "base_uri": "https://localhost:8080/"
        },
        "id": "pE23zXDjbVES",
        "outputId": "1687a0f1-ad02-42d8-dd52-044ca929d8d4"
      },
      "execution_count": null,
      "outputs": [
        {
          "output_type": "stream",
          "name": "stdout",
          "text": [
            "Digite o primeiro número: 12\n",
            "Digite o segundo número: 5\n",
            "Digite a operação básica desejada (+, -, *, /, ^): *\n",
            "Resultado: 60.0\n",
            "O número 60.0 é par, positivo e inteiro.\n"
          ]
        }
      ]
    },
    {
      "cell_type": "code",
      "source": [
        "# Solicita o input do usuário:\n",
        "while True:\n",
        "  idade = int(input(\"Digite sua idade: \"))\n",
        "\n",
        "# Verifica se o valor é válido\n",
        "  if 0 <= idade <= 150:\n",
        "    break\n",
        "  else:\n",
        "    print(\"Idade inválida. Digite novamente.\")\n",
        "\n",
        "# Imprime a idade\n",
        "print(f\"Sua idade é {idade}.\")\n"
      ],
      "metadata": {
        "colab": {
          "base_uri": "https://localhost:8080/"
        },
        "id": "DrWvpI0IeFMc",
        "outputId": "027f8cfe-2d65-4fb8-8118-eb1df6c4bd72"
      },
      "execution_count": null,
      "outputs": [
        {
          "output_type": "stream",
          "name": "stdout",
          "text": [
            "Digite sua idade: 200\n",
            "Idade inválida. Digite novamente.\n",
            "Digite sua idade: 151\n",
            "Idade inválida. Digite novamente.\n",
            "Digite sua idade: 800\n",
            "Idade inválida. Digite novamente.\n",
            "Digite sua idade: -30\n",
            "Idade inválida. Digite novamente.\n",
            "Digite sua idade: 8\n",
            "Sua idade é 8.\n"
          ]
        }
      ]
    },
    {
      "cell_type": "code",
      "source": [
        "# Cria uma lista vazia para armazenar os números.\n",
        "numeros = []\n",
        "\n",
        "# Utiliza um laço de repetição para ler 5 números.\n",
        "for i in range(5):\n",
        "  numero = float(input(\"Digite o \" + str(i + 1) + \"º número: \"))\n",
        "  numeros.append(numero)\n",
        "\n",
        "# Calcula a soma dos números.\n",
        "soma = sum(numeros)\n",
        "\n",
        "# Calcula a média dos números.\n",
        "media = soma / len(numeros)\n",
        "\n",
        "# Imprime a soma e a média dos números.\n",
        "print(\"A soma dos números é:\", soma)\n",
        "print(\"A média dos números é:\", media)\n"
      ],
      "metadata": {
        "colab": {
          "base_uri": "https://localhost:8080/"
        },
        "id": "jrcy-O8UgQ1v",
        "outputId": "c87a2193-e95c-4c80-f3af-2b71889ec111"
      },
      "execution_count": null,
      "outputs": [
        {
          "output_type": "stream",
          "name": "stdout",
          "text": [
            "Digite o 1º número: 56\n",
            "Digite o 2º número: 12\n",
            "Digite o 3º número: 14\n",
            "Digite o 4º número: 8\n",
            "Digite o 5º número: 92\n",
            "A soma dos números é: 182.0\n",
            "A média dos números é: 36.4\n"
          ]
        }
      ]
    },
    {
      "cell_type": "code",
      "source": [
        "# Solicita ao usuário para informar um número inteiro\n",
        "numero = int(input(\"Digite um número inteiro: \"))\n",
        "\n",
        "# Verifica se o número é divisível por algum número entre 2 e a raiz quadrada do número\n",
        "divisivel = False\n",
        "for i in range(2, int(numero ** 0.5) + 1):\n",
        "    if numero % i == 0:\n",
        "        divisivel = True\n",
        "        break\n",
        "\n",
        "# Imprime se o número é ou não primo\n",
        "if divisivel:\n",
        "    print(f\"O número {numero} não é primo.\")\n",
        "else:\n",
        "    print(f\"O número {numero} é primo.\")\n"
      ],
      "metadata": {
        "colab": {
          "base_uri": "https://localhost:8080/"
        },
        "id": "QNE1EUMwhHn6",
        "outputId": "05aa9815-239e-4ae3-ac6a-f62fe7cbfaae"
      },
      "execution_count": 64,
      "outputs": [
        {
          "output_type": "stream",
          "name": "stdout",
          "text": [
            "Digite um número inteiro: 104729\n",
            "O número 104729 é primo.\n"
          ]
        }
      ]
    },
    {
      "cell_type": "code",
      "source": [
        "# Cria uma lista vazia para armazenar as temperaturas.\n",
        "temperaturas = []\n",
        "\n",
        "# Utiliza um laço de repetição para ler 5 temperaturas.\n",
        "for i in range(5):\n",
        "  temperatura = float(input(\"Digite a \" + str(i + 1) + \"ª temperatura: \"))\n",
        "  temperaturas.append(temperatura)\n",
        "\n",
        "# Calcula a menor temperatura.\n",
        "menor_temperatura = min(temperaturas)\n",
        "\n",
        "# Calcula a maior temperatura.\n",
        "maior_temperatura = max(temperaturas)\n",
        "\n",
        "# Calcula a média das temperaturas.\n",
        "media_temperatura = sum(temperaturas) / len(temperaturas)\n",
        "\n",
        "# Imprime a menor temperatura, a maior temperatura e a média das temperaturas.\n",
        "print(\"Menor temperatura:\", menor_temperatura)\n",
        "print(\"Maior temperatura:\", maior_temperatura)\n",
        "print(\"Média das temperaturas:\", media_temperatura)\n"
      ],
      "metadata": {
        "colab": {
          "base_uri": "https://localhost:8080/"
        },
        "id": "A2KRNaQ7lRXX",
        "outputId": "182b41e3-787f-487a-fa76-9e7d0d94eccf"
      },
      "execution_count": 65,
      "outputs": [
        {
          "output_type": "stream",
          "name": "stdout",
          "text": [
            "Digite a 1ª temperatura: 3\n",
            "Digite a 2ª temperatura: 34\n",
            "Digite a 3ª temperatura: 22\n",
            "Digite a 4ª temperatura: 28\n",
            "Digite a 5ª temperatura: 21\n",
            "Menor temperatura: 3.0\n",
            "Maior temperatura: 34.0\n",
            "Média das temperaturas: 21.6\n"
          ]
        }
      ]
    },
    {
      "cell_type": "code",
      "source": [
        "# Coleta o saldo médio do cliente\n",
        "saldo_medio = float(input(\"Insira o saldo médio do cliente: \"))\n",
        "\n",
        "# Verifica o crédito do cliente\n",
        "if saldo_medio <= 200:\n",
        "  credito = 0\n",
        "elif saldo_medio <= 400:\n",
        "  credito = saldo_medio * 0.2\n",
        "elif saldo_medio <= 600:\n",
        "  credito = saldo_medio * 0.3\n",
        "else:\n",
        "  credito = saldo_medio * 0.4\n",
        "\n",
        "# Imprime o Saldo médio e crédito do cliente\n",
        "print(\"Saldo médio:\", saldo_medio)\n",
        "print(\"Crédito:\", credito)\n"
      ],
      "metadata": {
        "colab": {
          "base_uri": "https://localhost:8080/"
        },
        "id": "HBzS130clxJK",
        "outputId": "7b8bba8a-c5af-4396-c194-00baedccd7f0"
      },
      "execution_count": 69,
      "outputs": [
        {
          "output_type": "stream",
          "name": "stdout",
          "text": [
            "Insira o saldo médio do cliente: 20000\n",
            "Saldo médio: 20000.0\n",
            "Crédito: 8000.0\n"
          ]
        }
      ]
    },
    {
      "cell_type": "code",
      "source": [
        "# prompt: Você foi contratado(a) para fazer um serviço para o INSS (Instituto Nacional do Seguro Social) do Brasil. O trabalho consiste em criar um programa que diga a pessoa o ano que ela poderá se aposentar. Você deve perguntar a pessoa, o nome, a idade e criar uma mensagem\n",
        "# dizendo em qual ano ela irá aposentar. Considere que todas as pessoas poderão se aposentar aos 65 anos de idade(rs).\n",
        "\n",
        "# Solicita dados do usuário\n",
        "nome = str(input(\"Qual é o seu nome? \"))\n",
        "idade = int(input(\"Qual é a sua idade? \"))\n",
        "\n",
        "# Caucula o tempo para a aposentadoria\n",
        "if idade < 65:\n",
        "  anos_para_aposentadoria = 65 - idade\n",
        "  ano_aposentadoria = 2024 + anos_para_aposentadoria\n",
        "  print(f\"{nome}, você poderá se aposentar no ano de {ano_aposentadoria}.\")\n",
        "else:\n",
        "  print(f\"{nome}, você já está aposentado, ou pode se aposentar.\")\n"
      ],
      "metadata": {
        "colab": {
          "base_uri": "https://localhost:8080/"
        },
        "id": "1fX6gSXhrrmw",
        "outputId": "910b01bb-18ce-4e73-bc85-2888e4c6ce34"
      },
      "execution_count": 2,
      "outputs": [
        {
          "output_type": "stream",
          "name": "stdout",
          "text": [
            "Qual é o seu nome? Danilo\n",
            "Qual é a sua idade? 18\n",
            "Danilo, você poderá se aposentar no ano de 2071.\n"
          ]
        }
      ]
    },
    {
      "cell_type": "code",
      "source": [
        "# Solicita ao usuário o valor da hora de trabalho como um número decimal e armazena na variável \"hora\".\n",
        "hora = float(input(\"Digite o valor da sua hora: \"))\n",
        "\n",
        "# Solicita ao usuário a quantidade de horas trabalhadas no mês como um número inteiro e armazena na variável \"horas\".\n",
        "horas = int(input(\"Digite a quantidade de horas trabalhadas no mês: \"))\n",
        "\n",
        "# Calcula o salário bruto multiplicando o valor da hora pelo número de horas trabalhadas e armazena na variável \"salario_bruto\".\n",
        "salario_bruto = hora * horas\n",
        "\n",
        "# Determina o desconto do imposto de renda (IR) com base nas faixas de renda especificadas.\n",
        "if salario_bruto <= 2112:\n",
        "    desconto_ir = 0\n",
        "elif salario_bruto <= 2826.65:\n",
        "    desconto_ir = salario_bruto * 0.075\n",
        "elif salario_bruto <= 3751.05:\n",
        "    desconto_ir = salario_bruto * 0.15\n",
        "elif salario_bruto <= 4664.68:\n",
        "    desconto_ir = salario_bruto * 0.225\n",
        "else:\n",
        "    desconto_ir = salario_bruto * 0.275\n",
        "\n",
        "# Caucula o desconto do IR\n",
        "salario_liquido = salario_bruto - desconto_ir\n",
        "\n",
        "# Imprime os resultados do salário.\n",
        "print(\"Salário bruto: R$\", salario_bruto)\n",
        "print(\"Desconto do IR: R$\", desconto_ir)\n",
        "print(\"Salário líquido: R$\", salario_liquido)"
      ],
      "metadata": {
        "id": "e3MJCRpDyT8D"
      },
      "execution_count": null,
      "outputs": []
    }
  ]
}