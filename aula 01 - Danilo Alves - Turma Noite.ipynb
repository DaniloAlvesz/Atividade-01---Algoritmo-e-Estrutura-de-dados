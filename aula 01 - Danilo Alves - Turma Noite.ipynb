{
 "cells": [
  {
   "cell_type": "code",
   "execution_count": null,
   "metadata": {},
   "outputs": [],
   "source": [
    "print(\"Olá mundo!\")\n",
    "a = int(input(\"digite um número: \"))\n",
    "b = int(input(\"digite outro número: \"))\n",
    "soma = a + b\n",
    "print(\"O resultado da soma é: \" , soma)\n",
    "c = int(input(\"Digite outro número para multiplicar ao resultado da soma: \"))\n",
    "res1 = soma * c\n",
    "print(\"O resultado é: \", res1)\n",
    "d = int(input(\"insira outro número para ser subtrído do resultado: \"))\n",
    "res2 = res1 - d\n",
    "print(\"O resultado é: \", res2)\n",
    "\n",
    "\n",
    "\n",
    "nome = str(input(\"Insert your name: \"))\n",
    "print(\"Olá \", nome, \"!\")\n",
    "idade = int(input(\"Quantos anos você tem? \"))\n",
    "if (idade) < 18: \n",
    "    print(\"Menor de 18 anos\")\n",
    "elif (idade) >= 18: \n",
    "    print(\"Maior de 18 anos\")\n"
   ]
  },
  {
   "cell_type": "code",
   "execution_count": 28,
   "metadata": {},
   "outputs": [],
   "source": [
    "pessoa = \"Juninho\"\n",
    "idade =  22\n",
    "altura = 1.65\n",
    "dev = True"
   ]
  },
  {
   "cell_type": "code",
   "execution_count": 29,
   "metadata": {},
   "outputs": [
    {
     "data": {
      "text/plain": [
       "str"
      ]
     },
     "execution_count": 29,
     "metadata": {},
     "output_type": "execute_result"
    }
   ],
   "source": [
    "type(pessoa)"
   ]
  },
  {
   "cell_type": "code",
   "execution_count": 30,
   "metadata": {},
   "outputs": [
    {
     "data": {
      "text/plain": [
       "int"
      ]
     },
     "execution_count": 30,
     "metadata": {},
     "output_type": "execute_result"
    }
   ],
   "source": [
    "type(idade)"
   ]
  },
  {
   "cell_type": "code",
   "execution_count": 31,
   "metadata": {},
   "outputs": [
    {
     "data": {
      "text/plain": [
       "float"
      ]
     },
     "execution_count": 31,
     "metadata": {},
     "output_type": "execute_result"
    }
   ],
   "source": [
    "type(altura)"
   ]
  },
  {
   "cell_type": "code",
   "execution_count": 32,
   "metadata": {},
   "outputs": [
    {
     "data": {
      "text/plain": [
       "bool"
      ]
     },
     "execution_count": 32,
     "metadata": {},
     "output_type": "execute_result"
    }
   ],
   "source": [
    "type(dev)"
   ]
  },
  {
   "cell_type": "code",
   "execution_count": 33,
   "metadata": {},
   "outputs": [
    {
     "name": "stdout",
     "output_type": "stream",
     "text": [
      "35  //  -11  //  276  //  0.5217391304347826\n"
     ]
    }
   ],
   "source": [
    "idade1 = int(input(\"insira a sua idade: \"))\n"
   ]
  },
  {
   "cell_type": "code",
   "execution_count": null,
   "metadata": {},
   "outputs": [],
   "source": [
    "idade2 = int(input(\"insira outra idade\"))\n",
    "soma = idade1 + idade2\n",
    "subtracao = idade1 - idade2\n",
    "multiplicacao = idade1 * idade2\n",
    "divisao = idade1 / idade2\n",
    "print(soma, \"//\", subtracao, \" // \", multiplicacao, \" // \", divisao)"
   ]
  },
  {
   "cell_type": "code",
   "execution_count": null,
   "metadata": {},
   "outputs": [],
   "source": []
  }
 ],
 "metadata": {
  "kernelspec": {
   "display_name": "Python 3",
   "language": "python",
   "name": "python3"
  },
  "language_info": {
   "codemirror_mode": {
    "name": "ipython",
    "version": 3
   },
   "file_extension": ".py",
   "mimetype": "text/x-python",
   "name": "python",
   "nbconvert_exporter": "python",
   "pygments_lexer": "ipython3",
   "version": "3.11.8"
  }
 },
 "nbformat": 4,
 "nbformat_minor": 2
}
